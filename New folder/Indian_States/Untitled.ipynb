{
 "cells": [
  {
   "cell_type": "code",
   "execution_count": 259,
   "id": "2d33c51d",
   "metadata": {},
   "outputs": [
    {
     "name": "stdout",
     "output_type": "stream",
     "text": [
      "Requirement already satisfied: ipynb in c:\\users\\siddh\\anaconda3\\lib\\site-packages (0.5.1)\n"
     ]
    }
   ],
   "source": [
    "!pip install ipynb\n",
    "import numpy as np\n",
    "import pandas as pd\n",
    "\n",
    "from sklearn.feature_extraction.text import TfidfVectorizer\n",
    "from sklearn.metrics.pairwise import cosine_similarity\n",
    "from sklearn.metrics.pairwise import linear_kernel\n",
    "\n",
    "import re\n",
    "from sklearn.feature_extraction.text import TfidfVectorizer\n",
    "from nltk.corpus import stopwords\n",
    "from sklearn.feature_extraction.text import CountVectorizer\n",
    "from sklearn.metrics.pairwise import cosine_similarity\n",
    "\n",
    "\n",
    "import os\n",
    "import warnings\n",
    "warnings.filterwarnings('ignore')"
   ]
  },
  {
   "cell_type": "code",
   "execution_count": 249,
   "id": "ac9cbf4b",
   "metadata": {},
   "outputs": [
    {
     "name": "stdout",
     "output_type": "stream",
     "text": [
      "Enter the stateUttar pradesh\n",
      "Enter no of days7\n",
      "Enter you Budget65000\n"
     ]
    },
    {
     "data": {
      "text/plain": [
       "'uttarpradesh.csv'"
      ]
     },
     "execution_count": 249,
     "metadata": {},
     "output_type": "execute_result"
    }
   ],
   "source": [
    "def input_state():\n",
    "    state=input(\"Enter the state\")\n",
    "    dur=int(input(\"Enter no of days\"))\n",
    "    budget=int(input(\"Enter you Budget\"))\n",
    "    state=state.lower()\n",
    "    state=state.replace(' ','')\n",
    "    path=f\"{state}.csv\"\n",
    "    return path,dur,budget\n",
    "\n",
    "state,dur,budget=input_state()\n",
    "state"
   ]
  },
  {
   "cell_type": "code",
   "execution_count": null,
   "id": "c06a48ba",
   "metadata": {},
   "outputs": [],
   "source": []
  },
  {
   "cell_type": "code",
   "execution_count": 250,
   "id": "cd019883",
   "metadata": {},
   "outputs": [],
   "source": [
    "data=pd.read_csv(state)"
   ]
  },
  {
   "cell_type": "code",
   "execution_count": 251,
   "id": "5059e946",
   "metadata": {
    "scrolled": true
   },
   "outputs": [
    {
     "name": "stdout",
     "output_type": "stream",
     "text": [
      "\n"
     ]
    },
    {
     "ename": "ValueError",
     "evalue": "'' is not in list",
     "output_type": "error",
     "traceback": [
      "\u001b[1;31m---------------------------------------------------------------------------\u001b[0m",
      "\u001b[1;31mValueError\u001b[0m                                Traceback (most recent call last)",
      "Cell \u001b[1;32mIn[251], line 3\u001b[0m\n\u001b[0;32m      1\u001b[0m places\u001b[38;5;241m=\u001b[39m\u001b[38;5;28mlist\u001b[39m(data\u001b[38;5;241m.\u001b[39mPlace)\n\u001b[0;32m      2\u001b[0m loc\u001b[38;5;241m=\u001b[39m\u001b[38;5;28minput\u001b[39m()\n\u001b[1;32m----> 3\u001b[0m places\u001b[38;5;241m.\u001b[39mindex(loc)\n",
      "\u001b[1;31mValueError\u001b[0m: '' is not in list"
     ]
    }
   ],
   "source": [
    "places=list(data.Place)\n",
    "loc=input()\n",
    "places.index(loc)"
   ]
  },
  {
   "cell_type": "code",
   "execution_count": 252,
   "id": "78ab5f23",
   "metadata": {},
   "outputs": [],
   "source": [
    "def get_cost(dur):\n",
    "    prices=data['Estimated Expenses per person (INR)']\n",
    "    min_prices, max_prices = [], []\n",
    "    for price_range in prices:\n",
    "        min_price, max_price = price_range.split(\" - \")\n",
    "        max_prices.append(int(max_price.replace(\",\", \"\")))\n",
    "    df = pd.DataFrame({\"max_price\": max_prices})\n",
    "    return df.iloc[simi[:dur+1]].sum()\n"
   ]
  },
  {
   "cell_type": "code",
   "execution_count": 253,
   "id": "9d56f40b",
   "metadata": {},
   "outputs": [
    {
     "data": {
      "text/plain": [
       "max_price    36000\n",
       "dtype: int64"
      ]
     },
     "execution_count": 253,
     "metadata": {},
     "output_type": "execute_result"
    }
   ],
   "source": [
    "cost=get_cost(dur)\n",
    "cost"
   ]
  },
  {
   "cell_type": "code",
   "execution_count": 254,
   "id": "5ed0b8bb",
   "metadata": {},
   "outputs": [],
   "source": [
    "pres_cols=['Description','Activities']"
   ]
  },
  {
   "cell_type": "code",
   "execution_count": 255,
   "id": "cf002b41",
   "metadata": {},
   "outputs": [
    {
     "data": {
      "text/plain": [
       "(10, 56)"
      ]
     },
     "execution_count": 255,
     "metadata": {},
     "output_type": "execute_result"
    }
   ],
   "source": [
    "tfidf=TfidfVectorizer(stop_words='english')\n",
    "tfidf_matrix=tfidf.fit_transform(data['Description'])\n",
    "tfidf_matrix.shape"
   ]
  },
  {
   "cell_type": "code",
   "execution_count": 256,
   "id": "56ee14c7",
   "metadata": {
    "scrolled": true
   },
   "outputs": [],
   "source": [
    "cosine_sim=cosine_similarity(tfidf_matrix,tfidf_matrix)"
   ]
  },
  {
   "cell_type": "code",
   "execution_count": 257,
   "id": "e5eca805",
   "metadata": {
    "scrolled": true
   },
   "outputs": [
    {
     "name": "stdout",
     "output_type": "stream",
     "text": [
      "\n"
     ]
    }
   ],
   "source": [
    "sen1=input()\n",
    "sen1=data.loc[data['Place']==sen1].index"
   ]
  },
  {
   "cell_type": "code",
   "execution_count": 258,
   "id": "ec4dfe1a",
   "metadata": {
    "scrolled": false
   },
   "outputs": [
    {
     "name": "stdout",
     "output_type": "stream",
     "text": [
      "Places related to  Agra\n",
      "-----------------------------------------------------------------------\n",
      "Place to visit :  Varanasi (Kashi)\n",
      "Description :  Holy city on the banks of the Ganges River, known for its spiritual significance and vibrant culture.\n",
      "Activities :  Taking a boat ride on the Ganges, witnessing sunrise and aarti ceremony, exploring temples like Kashi Vishwanath Temple and Sankat Mochan Hanuman Temple, experiencing traditional rituals.\n"
     ]
    },
    {
     "ename": "AttributeError",
     "evalue": "'DataFrame' object has no attribute 'Ratings'",
     "output_type": "error",
     "traceback": [
      "\u001b[1;31m---------------------------------------------------------------------------\u001b[0m",
      "\u001b[1;31mAttributeError\u001b[0m                            Traceback (most recent call last)",
      "\u001b[1;32m~\\AppData\\Local\\Temp\\ipykernel_8620\\2365595433.py\u001b[0m in \u001b[0;36m?\u001b[1;34m()\u001b[0m\n\u001b[0;32m     16\u001b[0m     \u001b[0mcities\u001b[0m\u001b[1;33m=\u001b[0m\u001b[1;36m2\u001b[0m\u001b[1;33m\u001b[0m\u001b[1;33m\u001b[0m\u001b[0m\n\u001b[0;32m     17\u001b[0m \u001b[1;32melse\u001b[0m\u001b[1;33m:\u001b[0m\u001b[1;33m\u001b[0m\u001b[1;33m\u001b[0m\u001b[0m\n\u001b[0;32m     18\u001b[0m     \u001b[0mcities\u001b[0m\u001b[1;33m=\u001b[0m\u001b[0mdur\u001b[0m\u001b[1;33m-\u001b[0m\u001b[1;36m2\u001b[0m\u001b[1;33m\u001b[0m\u001b[1;33m\u001b[0m\u001b[0m\n\u001b[0;32m     19\u001b[0m \u001b[1;32mfor\u001b[0m \u001b[0mi\u001b[0m \u001b[1;32min\u001b[0m \u001b[0mrange\u001b[0m\u001b[1;33m(\u001b[0m\u001b[1;36m0\u001b[0m\u001b[1;33m,\u001b[0m\u001b[0mcities\u001b[0m\u001b[1;33m)\u001b[0m\u001b[1;33m:\u001b[0m\u001b[1;33m\u001b[0m\u001b[1;33m\u001b[0m\u001b[0m\n\u001b[1;32m---> 20\u001b[1;33m     \u001b[0mdisplay\u001b[0m\u001b[1;33m(\u001b[0m\u001b[0mi\u001b[0m\u001b[1;33m)\u001b[0m\u001b[1;33m\u001b[0m\u001b[1;33m\u001b[0m\u001b[0m\n\u001b[0m\u001b[0;32m     21\u001b[0m     \u001b[0mprint\u001b[0m\u001b[1;33m(\u001b[0m\u001b[1;34m'------------------------------------------------------------------------'\u001b[0m\u001b[1;33m)\u001b[0m\u001b[1;33m\u001b[0m\u001b[1;33m\u001b[0m\u001b[0m\n",
      "\u001b[1;32m~\\AppData\\Local\\Temp\\ipykernel_8620\\3726072095.py\u001b[0m in \u001b[0;36m?\u001b[1;34m(i)\u001b[0m\n\u001b[0;32m      1\u001b[0m \u001b[1;32mdef\u001b[0m \u001b[0mdisplay\u001b[0m\u001b[1;33m(\u001b[0m\u001b[0mi\u001b[0m\u001b[1;33m)\u001b[0m\u001b[1;33m:\u001b[0m\u001b[1;33m\u001b[0m\u001b[1;33m\u001b[0m\u001b[0m\n\u001b[0;32m      2\u001b[0m     \u001b[0mprint\u001b[0m\u001b[1;33m(\u001b[0m\u001b[1;34m\"Place to visit : \"\u001b[0m\u001b[1;33m,\u001b[0m\u001b[0mdata\u001b[0m\u001b[1;33m.\u001b[0m\u001b[0mPlace\u001b[0m\u001b[1;33m.\u001b[0m\u001b[0miloc\u001b[0m\u001b[1;33m[\u001b[0m\u001b[0msimi\u001b[0m\u001b[1;33m[\u001b[0m\u001b[0mi\u001b[0m\u001b[1;33m]\u001b[0m\u001b[1;33m]\u001b[0m\u001b[1;33m)\u001b[0m\u001b[1;33m\u001b[0m\u001b[1;33m\u001b[0m\u001b[0m\n\u001b[0;32m      3\u001b[0m     \u001b[0mprint\u001b[0m\u001b[1;33m(\u001b[0m\u001b[1;34m\"Description : \"\u001b[0m\u001b[1;33m,\u001b[0m\u001b[0mdata\u001b[0m\u001b[1;33m.\u001b[0m\u001b[0mDescription\u001b[0m\u001b[1;33m.\u001b[0m\u001b[0miloc\u001b[0m\u001b[1;33m[\u001b[0m\u001b[0msimi\u001b[0m\u001b[1;33m[\u001b[0m\u001b[0mi\u001b[0m\u001b[1;33m]\u001b[0m\u001b[1;33m]\u001b[0m\u001b[1;33m)\u001b[0m\u001b[1;33m\u001b[0m\u001b[1;33m\u001b[0m\u001b[0m\n\u001b[0;32m      4\u001b[0m     \u001b[0mprint\u001b[0m\u001b[1;33m(\u001b[0m\u001b[1;34m\"Activities : \"\u001b[0m\u001b[1;33m,\u001b[0m\u001b[0mdata\u001b[0m\u001b[1;33m.\u001b[0m\u001b[0mActivities\u001b[0m\u001b[1;33m.\u001b[0m\u001b[0miloc\u001b[0m\u001b[1;33m[\u001b[0m\u001b[0msimi\u001b[0m\u001b[1;33m[\u001b[0m\u001b[0mi\u001b[0m\u001b[1;33m]\u001b[0m\u001b[1;33m]\u001b[0m\u001b[1;33m)\u001b[0m\u001b[1;33m\u001b[0m\u001b[1;33m\u001b[0m\u001b[0m\n\u001b[1;32m----> 5\u001b[1;33m     \u001b[0mprint\u001b[0m\u001b[1;33m(\u001b[0m\u001b[1;34m\"\\nRating : \"\u001b[0m\u001b[1;33m,\u001b[0m\u001b[0mdata\u001b[0m\u001b[1;33m.\u001b[0m\u001b[0mRatings\u001b[0m\u001b[1;33m.\u001b[0m\u001b[0miloc\u001b[0m\u001b[1;33m[\u001b[0m\u001b[0msimi\u001b[0m\u001b[1;33m[\u001b[0m\u001b[0mi\u001b[0m\u001b[1;33m]\u001b[0m\u001b[1;33m]\u001b[0m\u001b[1;33m,\u001b[0m\u001b[1;34m\"                                       Reviews : \"\u001b[0m\u001b[1;33m,\u001b[0m\u001b[0mdata\u001b[0m\u001b[1;33m.\u001b[0m\u001b[0mReviews\u001b[0m\u001b[1;33m.\u001b[0m\u001b[0miloc\u001b[0m\u001b[1;33m[\u001b[0m\u001b[0msimi\u001b[0m\u001b[1;33m[\u001b[0m\u001b[0mi\u001b[0m\u001b[1;33m]\u001b[0m\u001b[1;33m]\u001b[0m\u001b[1;33m,\u001b[0m\u001b[1;34m\"\\n \\n\"\u001b[0m\u001b[1;33m)\u001b[0m\u001b[1;33m\u001b[0m\u001b[1;33m\u001b[0m\u001b[0m\n\u001b[0m",
      "\u001b[1;32m~\\anaconda3\\Lib\\site-packages\\pandas\\core\\generic.py\u001b[0m in \u001b[0;36m?\u001b[1;34m(self, name)\u001b[0m\n\u001b[0;32m   5985\u001b[0m             \u001b[1;32mand\u001b[0m \u001b[0mname\u001b[0m \u001b[1;32mnot\u001b[0m \u001b[1;32min\u001b[0m \u001b[0mself\u001b[0m\u001b[1;33m.\u001b[0m\u001b[0m_accessors\u001b[0m\u001b[1;33m\u001b[0m\u001b[1;33m\u001b[0m\u001b[0m\n\u001b[0;32m   5986\u001b[0m             \u001b[1;32mand\u001b[0m \u001b[0mself\u001b[0m\u001b[1;33m.\u001b[0m\u001b[0m_info_axis\u001b[0m\u001b[1;33m.\u001b[0m\u001b[0m_can_hold_identifiers_and_holds_name\u001b[0m\u001b[1;33m(\u001b[0m\u001b[0mname\u001b[0m\u001b[1;33m)\u001b[0m\u001b[1;33m\u001b[0m\u001b[1;33m\u001b[0m\u001b[0m\n\u001b[0;32m   5987\u001b[0m         ):\n\u001b[0;32m   5988\u001b[0m             \u001b[1;32mreturn\u001b[0m \u001b[0mself\u001b[0m\u001b[1;33m[\u001b[0m\u001b[0mname\u001b[0m\u001b[1;33m]\u001b[0m\u001b[1;33m\u001b[0m\u001b[1;33m\u001b[0m\u001b[0m\n\u001b[1;32m-> 5989\u001b[1;33m         \u001b[1;32mreturn\u001b[0m \u001b[0mobject\u001b[0m\u001b[1;33m.\u001b[0m\u001b[0m__getattribute__\u001b[0m\u001b[1;33m(\u001b[0m\u001b[0mself\u001b[0m\u001b[1;33m,\u001b[0m \u001b[0mname\u001b[0m\u001b[1;33m)\u001b[0m\u001b[1;33m\u001b[0m\u001b[1;33m\u001b[0m\u001b[0m\n\u001b[0m",
      "\u001b[1;31mAttributeError\u001b[0m: 'DataFrame' object has no attribute 'Ratings'"
     ]
    }
   ],
   "source": [
    "simi=[]\n",
    "loc=''\n",
    "places=list(data.Place)\n",
    "if(loc==''):\n",
    "    sen1=0\n",
    "else:\n",
    "    sen1=places.index(loc)\n",
    "print(\"Places related to \",data.Place.iloc[sen1])\n",
    "print(\"-----------------------------------------------------------------------\")\n",
    "for i in range((cosine_sim.shape)[1]):\n",
    "    simi.append(cosine_sim[sen1][i])\n",
    "simi=pd.DataFrame(simi).sort_values(by=[0])\n",
    "simi=simi.index\n",
    "\n",
    "if(dur<5):\n",
    "    cities=2\n",
    "else:\n",
    "    cities=dur-2\n",
    "for i in range(0,cities):\n",
    "    display(i)\n",
    "    print('------------------------------------------------------------------------')\n"
   ]
  },
  {
   "cell_type": "code",
   "execution_count": 240,
   "id": "5eccbb1f",
   "metadata": {},
   "outputs": [],
   "source": [
    "def display(i):\n",
    "    print(\"Place to visit : \",data.Place.iloc[simi[i]])\n",
    "    print(\"Description : \",data.Description.iloc[simi[i]])\n",
    "    print(\"Activities : \",data.Activities.iloc[simi[i]])\n",
    "    print(\"\\nRating : \",data.Ratings.iloc[simi[i]],\"                                       Reviews : \",data.Reviews.iloc[simi[i]],\"\\n \\n\")"
   ]
  },
  {
   "cell_type": "code",
   "execution_count": 204,
   "id": "e71853ed",
   "metadata": {},
   "outputs": [
    {
     "data": {
      "text/plain": [
       "Index([0, 1, 2, 4, 5, 6, 7, 8, 9, 3], dtype='int64')"
      ]
     },
     "execution_count": 204,
     "metadata": {},
     "output_type": "execute_result"
    }
   ],
   "source": [
    "simi "
   ]
  },
  {
   "cell_type": "code",
   "execution_count": 129,
   "id": "6a4c7fca",
   "metadata": {
    "scrolled": false
   },
   "outputs": [
    {
     "name": "stdout",
     "output_type": "stream",
     "text": [
      "Place                                                                          North Goa\n",
      "Description                            Known for its vibrant nightlife, beaches, and ...\n",
      "Activities                             Sunbathing, swimming, water sports, flea marke...\n",
      "Best Months to Visit                                                 November - February\n",
      "Time to Cover                                                                   3-5 days\n",
      "Estimated Expenses per person (INR)                                       5,000 - 15,000\n",
      "Name: 0, dtype: object\n",
      "------------------------------------------------------------------------\n",
      "Place                                                                            Old Goa\n",
      "Description                            Historical capital city with Portuguese coloni...\n",
      "Activities                             UNESCO World Heritage Sites, narrow streets, m...\n",
      "Best Months to Visit                                                     October - March\n",
      "Time to Cover                                                                   1-2 days\n",
      "Estimated Expenses per person (INR)                                        2,000 - 5,000\n",
      "Name: 2, dtype: object\n",
      "------------------------------------------------------------------------\n",
      "Place                                                                    Dudhsagar Falls\n",
      "Description                            One of the tallest waterfalls in India, nestle...\n",
      "Activities                             Trekking (monsoon), witnessing falls, scenic b...\n",
      "Best Months to Visit                                                    June - September\n",
      "Time to Cover                                                                      1 day\n",
      "Estimated Expenses per person (INR)                                        1,500 - 3,000\n",
      "Name: 3, dtype: object\n",
      "------------------------------------------------------------------------\n",
      "Place                                                                  Spice Plantations\n",
      "Description                            Learn about the history and cultivation of spi...\n",
      "Activities                             Guided tours, learning about spices, processin...\n",
      "Best Months to Visit                                                       October - May\n",
      "Time to Cover                                                                   Half day\n",
      "Estimated Expenses per person (INR)                                          500 - 1,000\n",
      "Name: 5, dtype: object\n",
      "------------------------------------------------------------------------\n",
      "Place                                                                      Arambol Beach\n",
      "Description                            Popular with alternative travelers and yoga en...\n",
      "Activities                             Yoga, meditation, live music, flea markets, re...\n",
      "Best Months to Visit                                                 November - February\n",
      "Time to Cover                                                                   2-3 days\n",
      "Estimated Expenses per person (INR)                                        3,000 - 8,000\n",
      "Name: 7, dtype: object\n",
      "------------------------------------------------------------------------\n",
      "Place                                                                     Candolim Beach\n",
      "Description                            Popular beach known for its water sports, rest...\n",
      "Activities                             Water sports, restaurants, seafood, shops, mar...\n",
      "Best Months to Visit                                                 November - February\n",
      "Time to Cover                                                                   2-3 days\n",
      "Estimated Expenses per person (INR)                                       4,000 - 12,000\n",
      "Name: 9, dtype: object\n",
      "------------------------------------------------------------------------\n"
     ]
    }
   ],
   "source": [
    "simi=pd.DataFrame(simi).sort_values(by=[0])\n",
    "simi=simi.index\n",
    "dur=10\n",
    "if(dur<6):simi=[]\n",
    "\n",
    "sen1=int(input())\n",
    "print(\"Places related to \",data.Place.iloc[sen1])\n",
    "print(\"-----------------------------------------------------------------------\")\n",
    "for i in range((cosine_sim.shape)[1]):\n",
    "    simi.append(cosine_sim[sen1][i])\n",
    "simi=pd.DataFrame(simi).sort_values(by=[0])\n",
    "simi=simi.index\n",
    "\n",
    "if(dur<5):\n",
    "    cities=2\n",
    "else:\n",
    "    cities=dur-2\n",
    "for i in range(0,cities):\n",
    "    print(data.iloc[simi[i]])\n",
    "    print('------------------------------------------------------------------------')\n",
    "\n",
    "\n",
    "    cities=2\n",
    "else:\n",
    "    cities=dur-4\n",
    "for i in range(0,cities):\n",
    "    print(data.iloc[simi[i]])\n",
    "    print('------------------------------------------------------------------------')\n",
    "\n"
   ]
  },
  {
   "cell_type": "code",
   "execution_count": 119,
   "id": "50bab995",
   "metadata": {
    "scrolled": false
   },
   "outputs": [
    {
     "name": "stdout",
     "output_type": "stream",
     "text": [
      "Place                                                                               Agra\n",
      "Description                            Home to the iconic Taj Mahal, a UNESCO World H...\n",
      "Activities                             Exploring the Taj Mahal, Agra Fort, Fatehpur S...\n",
      "Best Months to Visit                                                     October - March\n",
      "Time to Cover                                                                   2-3 days\n",
      "Estimated Expenses per person (INR)                                        3,000 - 8,000\n",
      "Name: 0, dtype: object\n",
      "------------------------------------------------------------------------\n",
      "Place                                                                             Kanpur\n",
      "Description                            Industrial and historical city known for its m...\n",
      "Activities                             Visiting Kanpur Memorial, Allen Forest Zoo, Ka...\n",
      "Best Months to Visit                                                     October - March\n",
      "Time to Cover                                                                   1-2 days\n",
      "Estimated Expenses per person (INR)                                        2,000 - 5,000\n",
      "Name: 7, dtype: object\n",
      "------------------------------------------------------------------------\n",
      "Place                                                                            Lucknow\n",
      "Description                            Capital city of Uttar Pradesh, known for its r...\n",
      "Activities                             Exploring Bara Imambara, Chota Imambara, Resid...\n",
      "Best Months to Visit                                                     October - March\n",
      "Time to Cover                                                                   2-3 days\n",
      "Estimated Expenses per person (INR)                                        2,500 - 7,000\n",
      "Name: 6, dtype: object\n",
      "------------------------------------------------------------------------\n",
      "Place                                                                             Jhansi\n",
      "Description                            City known for its association with Rani Laksh...\n",
      "Activities                             Visiting Jhansi Fort, Rani Mahal, Government M...\n",
      "Best Months to Visit                                                     October - March\n",
      "Time to Cover                                                                      1 day\n",
      "Estimated Expenses per person (INR)                                        1,000 - 3,000\n",
      "Name: 9, dtype: object\n",
      "------------------------------------------------------------------------\n",
      "Place                                                                         Hastinapur\n",
      "Description                            Ancient city mentioned in the Mahabharata, kno...\n",
      "Activities                             Visiting Jain temples, archaeological sites, H...\n",
      "Best Months to Visit                                                     October - March\n",
      "Time to Cover                                                                      1 day\n",
      "Estimated Expenses per person (INR)                                        1,000 - 3,000\n",
      "Name: 8, dtype: object\n",
      "------------------------------------------------------------------------\n",
      "Place                                                                            Mathura\n",
      "Description                            Birthplace of Lord Krishna, known for its nume...\n",
      "Activities                             Visiting Krishna Janmabhoomi Temple, Dwarkadhe...\n",
      "Best Months to Visit                                                     October - March\n",
      "Time to Cover                                                                   1-2 days\n",
      "Estimated Expenses per person (INR)                                        2,000 - 5,000\n",
      "Name: 2, dtype: object\n",
      "------------------------------------------------------------------------\n"
     ]
    }
   ],
   "source": [
    "dur=10\n",
    "if(dur<6):\n",
    "    cities=2\n",
    "else:\n",
    "    cities=dur-4\n",
    "for i in range(0,cities):\n",
    "    print(data.iloc[simi[i]])\n",
    "    print('------------------------------------------------------------------------')"
   ]
  },
  {
   "cell_type": "code",
   "execution_count": null,
   "id": "331cfbce",
   "metadata": {},
   "outputs": [],
   "source": []
  },
  {
   "cell_type": "code",
   "execution_count": null,
   "id": "8826c828",
   "metadata": {},
   "outputs": [],
   "source": []
  },
  {
   "cell_type": "code",
   "execution_count": null,
   "id": "040c0ac1",
   "metadata": {},
   "outputs": [],
   "source": []
  },
  {
   "cell_type": "code",
   "execution_count": null,
   "id": "3dded883",
   "metadata": {},
   "outputs": [],
   "source": [
    "#sentence1 = int(input())  \n",
    "#sentence2 = 5  \n",
    "#similarity = cosine_sim[sentence1][sentence2]\n",
    "#print(f\"Cosine similarity between sentence {sentence1+1} and sentence {sentence2+1}: {similarity:.4f}\")"
   ]
  },
  {
   "cell_type": "code",
   "execution_count": 110,
   "id": "8a386374",
   "metadata": {},
   "outputs": [
    {
     "data": {
      "text/plain": [
       "Description\n",
       "Home to the iconic Taj Mahal, a UNESCO World Heritage Site.                                              0\n",
       "Holy city on the banks of the Ganges River, known for its spiritual significance and vibrant culture.    1\n",
       "Birthplace of Lord Krishna, known for its numerous temples and historical sites.                         2\n",
       "Birthplace of Lord Rama and a key pilgrimage site for Hindus.                                            3\n",
       "Buddhist pilgrimage site where Lord Buddha delivered his first sermon.                                   4\n",
       "Site of Lord Buddha's Parinirvana (attainment of Nirvana).                                               5\n",
       "Capital city of Uttar Pradesh, known for its rich cultural heritage and architectural marvels.           6\n",
       "Industrial and historical city known for its museums and colonial architecture.                          7\n",
       "Ancient city mentioned in the Mahabharata, known for its historical significance.                        8\n",
       "City known for its association with Rani Lakshmibai, a symbol of Indian independence.                    9\n",
       "dtype: int64"
      ]
     },
     "execution_count": 110,
     "metadata": {},
     "output_type": "execute_result"
    }
   ],
   "source": [
    "des=pd.Series(data.index, index=data.Description)\n",
    "des"
   ]
  },
  {
   "cell_type": "code",
   "execution_count": 67,
   "id": "d8e490c3",
   "metadata": {},
   "outputs": [],
   "source": [
    "def get_recom(des,cosine_sim=cosine_sim):\n",
    "    place=input()\n",
    "    idx=((data[data['Place']==place]).index)\n",
    "    sim_socres=list(enumerate(cosine_sim[idx]))\n",
    "    sim_socres=sorted(sim_socres,key=lambda X:X[1],reverse=True)\n",
    "    sim_socres=sim_socres[0:5]\n",
    "    idx=[i[0] for i in sim_socres]\n",
    "    print(idx)"
   ]
  },
  {
   "cell_type": "code",
   "execution_count": 68,
   "id": "b10afb5a",
   "metadata": {},
   "outputs": [
    {
     "name": "stdout",
     "output_type": "stream",
     "text": [
      "Ayodhya\n",
      "[0]\n"
     ]
    }
   ],
   "source": [
    "get_recom(des,cosine_sim)"
   ]
  },
  {
   "cell_type": "code",
   "execution_count": null,
   "id": "0b4d999b",
   "metadata": {},
   "outputs": [],
   "source": []
  },
  {
   "cell_type": "code",
   "execution_count": 99,
   "id": "7f576409",
   "metadata": {},
   "outputs": [],
   "source": [
    "text=list(data['Description'])\n",
    "def preprocess_string(text):\n",
    "    text = text.lower()  # Lowercase\n",
    "    text = re.sub(r'[^\\w\\s]', '', text)  \n",
    "    return text.split() "
   ]
  },
  {
   "cell_type": "code",
   "execution_count": 100,
   "id": "9bd89d88",
   "metadata": {},
   "outputs": [
    {
     "ename": "LookupError",
     "evalue": "\n**********************************************************************\n  Resource \u001b[93mstopwords\u001b[0m not found.\n  Please use the NLTK Downloader to obtain the resource:\n\n  \u001b[31m>>> import nltk\n  >>> nltk.download('stopwords')\n  \u001b[0m\n  For more information see: https://www.nltk.org/data.html\n\n  Attempted to load \u001b[93mcorpora/stopwords\u001b[0m\n\n  Searched in:\n    - 'C:\\\\Users\\\\siddh/nltk_data'\n    - 'C:\\\\Users\\\\siddh\\\\anaconda3\\\\nltk_data'\n    - 'C:\\\\Users\\\\siddh\\\\anaconda3\\\\share\\\\nltk_data'\n    - 'C:\\\\Users\\\\siddh\\\\anaconda3\\\\lib\\\\nltk_data'\n    - 'C:\\\\Users\\\\siddh\\\\AppData\\\\Roaming\\\\nltk_data'\n    - 'C:\\\\nltk_data'\n    - 'D:\\\\nltk_data'\n    - 'E:\\\\nltk_data'\n**********************************************************************\n",
     "output_type": "error",
     "traceback": [
      "\u001b[1;31m---------------------------------------------------------------------------\u001b[0m",
      "\u001b[1;31mLookupError\u001b[0m                               Traceback (most recent call last)",
      "File \u001b[1;32m~\\anaconda3\\Lib\\site-packages\\nltk\\corpus\\util.py:84\u001b[0m, in \u001b[0;36mLazyCorpusLoader.__load\u001b[1;34m(self)\u001b[0m\n\u001b[0;32m     83\u001b[0m \u001b[38;5;28;01mtry\u001b[39;00m:\n\u001b[1;32m---> 84\u001b[0m     root \u001b[38;5;241m=\u001b[39m nltk\u001b[38;5;241m.\u001b[39mdata\u001b[38;5;241m.\u001b[39mfind(\u001b[38;5;124mf\u001b[39m\u001b[38;5;124m\"\u001b[39m\u001b[38;5;132;01m{\u001b[39;00m\u001b[38;5;28mself\u001b[39m\u001b[38;5;241m.\u001b[39msubdir\u001b[38;5;132;01m}\u001b[39;00m\u001b[38;5;124m/\u001b[39m\u001b[38;5;132;01m{\u001b[39;00mzip_name\u001b[38;5;132;01m}\u001b[39;00m\u001b[38;5;124m\"\u001b[39m)\n\u001b[0;32m     85\u001b[0m \u001b[38;5;28;01mexcept\u001b[39;00m \u001b[38;5;167;01mLookupError\u001b[39;00m:\n",
      "File \u001b[1;32m~\\anaconda3\\Lib\\site-packages\\nltk\\data.py:583\u001b[0m, in \u001b[0;36mfind\u001b[1;34m(resource_name, paths)\u001b[0m\n\u001b[0;32m    582\u001b[0m resource_not_found \u001b[38;5;241m=\u001b[39m \u001b[38;5;124mf\u001b[39m\u001b[38;5;124m\"\u001b[39m\u001b[38;5;130;01m\\n\u001b[39;00m\u001b[38;5;132;01m{\u001b[39;00msep\u001b[38;5;132;01m}\u001b[39;00m\u001b[38;5;130;01m\\n\u001b[39;00m\u001b[38;5;132;01m{\u001b[39;00mmsg\u001b[38;5;132;01m}\u001b[39;00m\u001b[38;5;130;01m\\n\u001b[39;00m\u001b[38;5;132;01m{\u001b[39;00msep\u001b[38;5;132;01m}\u001b[39;00m\u001b[38;5;130;01m\\n\u001b[39;00m\u001b[38;5;124m\"\u001b[39m\n\u001b[1;32m--> 583\u001b[0m \u001b[38;5;28;01mraise\u001b[39;00m \u001b[38;5;167;01mLookupError\u001b[39;00m(resource_not_found)\n",
      "\u001b[1;31mLookupError\u001b[0m: \n**********************************************************************\n  Resource \u001b[93mstopwords\u001b[0m not found.\n  Please use the NLTK Downloader to obtain the resource:\n\n  \u001b[31m>>> import nltk\n  >>> nltk.download('stopwords')\n  \u001b[0m\n  For more information see: https://www.nltk.org/data.html\n\n  Attempted to load \u001b[93mcorpora/stopwords.zip/stopwords/\u001b[0m\n\n  Searched in:\n    - 'C:\\\\Users\\\\siddh/nltk_data'\n    - 'C:\\\\Users\\\\siddh\\\\anaconda3\\\\nltk_data'\n    - 'C:\\\\Users\\\\siddh\\\\anaconda3\\\\share\\\\nltk_data'\n    - 'C:\\\\Users\\\\siddh\\\\anaconda3\\\\lib\\\\nltk_data'\n    - 'C:\\\\Users\\\\siddh\\\\AppData\\\\Roaming\\\\nltk_data'\n    - 'C:\\\\nltk_data'\n    - 'D:\\\\nltk_data'\n    - 'E:\\\\nltk_data'\n**********************************************************************\n",
      "\nDuring handling of the above exception, another exception occurred:\n",
      "\u001b[1;31mLookupError\u001b[0m                               Traceback (most recent call last)",
      "Cell \u001b[1;32mIn[100], line 1\u001b[0m\n\u001b[1;32m----> 1\u001b[0m stop_words \u001b[38;5;241m=\u001b[39m stopwords\u001b[38;5;241m.\u001b[39mwords(\u001b[38;5;124m'\u001b[39m\u001b[38;5;124menglish\u001b[39m\u001b[38;5;124m'\u001b[39m) \n\u001b[0;32m      3\u001b[0m \u001b[38;5;28;01mdef\u001b[39;00m \u001b[38;5;21mpreprocess_string\u001b[39m(text):\n\u001b[0;32m      4\u001b[0m     \u001b[38;5;28;01mreturn\u001b[39;00m [word \u001b[38;5;28;01mfor\u001b[39;00m word \u001b[38;5;129;01min\u001b[39;00m tokens \u001b[38;5;28;01mif\u001b[39;00m word \u001b[38;5;129;01mnot\u001b[39;00m \u001b[38;5;129;01min\u001b[39;00m stop_words]\n",
      "File \u001b[1;32m~\\anaconda3\\Lib\\site-packages\\nltk\\corpus\\util.py:121\u001b[0m, in \u001b[0;36mLazyCorpusLoader.__getattr__\u001b[1;34m(self, attr)\u001b[0m\n\u001b[0;32m    118\u001b[0m \u001b[38;5;28;01mif\u001b[39;00m attr \u001b[38;5;241m==\u001b[39m \u001b[38;5;124m\"\u001b[39m\u001b[38;5;124m__bases__\u001b[39m\u001b[38;5;124m\"\u001b[39m:\n\u001b[0;32m    119\u001b[0m     \u001b[38;5;28;01mraise\u001b[39;00m \u001b[38;5;167;01mAttributeError\u001b[39;00m(\u001b[38;5;124m\"\u001b[39m\u001b[38;5;124mLazyCorpusLoader object has no attribute \u001b[39m\u001b[38;5;124m'\u001b[39m\u001b[38;5;124m__bases__\u001b[39m\u001b[38;5;124m'\u001b[39m\u001b[38;5;124m\"\u001b[39m)\n\u001b[1;32m--> 121\u001b[0m \u001b[38;5;28mself\u001b[39m\u001b[38;5;241m.\u001b[39m__load()\n\u001b[0;32m    122\u001b[0m \u001b[38;5;66;03m# This looks circular, but its not, since __load() changes our\u001b[39;00m\n\u001b[0;32m    123\u001b[0m \u001b[38;5;66;03m# __class__ to something new:\u001b[39;00m\n\u001b[0;32m    124\u001b[0m \u001b[38;5;28;01mreturn\u001b[39;00m \u001b[38;5;28mgetattr\u001b[39m(\u001b[38;5;28mself\u001b[39m, attr)\n",
      "File \u001b[1;32m~\\anaconda3\\Lib\\site-packages\\nltk\\corpus\\util.py:86\u001b[0m, in \u001b[0;36mLazyCorpusLoader.__load\u001b[1;34m(self)\u001b[0m\n\u001b[0;32m     84\u001b[0m             root \u001b[38;5;241m=\u001b[39m nltk\u001b[38;5;241m.\u001b[39mdata\u001b[38;5;241m.\u001b[39mfind(\u001b[38;5;124mf\u001b[39m\u001b[38;5;124m\"\u001b[39m\u001b[38;5;132;01m{\u001b[39;00m\u001b[38;5;28mself\u001b[39m\u001b[38;5;241m.\u001b[39msubdir\u001b[38;5;132;01m}\u001b[39;00m\u001b[38;5;124m/\u001b[39m\u001b[38;5;132;01m{\u001b[39;00mzip_name\u001b[38;5;132;01m}\u001b[39;00m\u001b[38;5;124m\"\u001b[39m)\n\u001b[0;32m     85\u001b[0m         \u001b[38;5;28;01mexcept\u001b[39;00m \u001b[38;5;167;01mLookupError\u001b[39;00m:\n\u001b[1;32m---> 86\u001b[0m             \u001b[38;5;28;01mraise\u001b[39;00m e\n\u001b[0;32m     88\u001b[0m \u001b[38;5;66;03m# Load the corpus.\u001b[39;00m\n\u001b[0;32m     89\u001b[0m corpus \u001b[38;5;241m=\u001b[39m \u001b[38;5;28mself\u001b[39m\u001b[38;5;241m.\u001b[39m__reader_cls(root, \u001b[38;5;241m*\u001b[39m\u001b[38;5;28mself\u001b[39m\u001b[38;5;241m.\u001b[39m__args, \u001b[38;5;241m*\u001b[39m\u001b[38;5;241m*\u001b[39m\u001b[38;5;28mself\u001b[39m\u001b[38;5;241m.\u001b[39m__kwargs)\n",
      "File \u001b[1;32m~\\anaconda3\\Lib\\site-packages\\nltk\\corpus\\util.py:81\u001b[0m, in \u001b[0;36mLazyCorpusLoader.__load\u001b[1;34m(self)\u001b[0m\n\u001b[0;32m     79\u001b[0m \u001b[38;5;28;01melse\u001b[39;00m:\n\u001b[0;32m     80\u001b[0m     \u001b[38;5;28;01mtry\u001b[39;00m:\n\u001b[1;32m---> 81\u001b[0m         root \u001b[38;5;241m=\u001b[39m nltk\u001b[38;5;241m.\u001b[39mdata\u001b[38;5;241m.\u001b[39mfind(\u001b[38;5;124mf\u001b[39m\u001b[38;5;124m\"\u001b[39m\u001b[38;5;132;01m{\u001b[39;00m\u001b[38;5;28mself\u001b[39m\u001b[38;5;241m.\u001b[39msubdir\u001b[38;5;132;01m}\u001b[39;00m\u001b[38;5;124m/\u001b[39m\u001b[38;5;132;01m{\u001b[39;00m\u001b[38;5;28mself\u001b[39m\u001b[38;5;241m.\u001b[39m__name\u001b[38;5;132;01m}\u001b[39;00m\u001b[38;5;124m\"\u001b[39m)\n\u001b[0;32m     82\u001b[0m     \u001b[38;5;28;01mexcept\u001b[39;00m \u001b[38;5;167;01mLookupError\u001b[39;00m \u001b[38;5;28;01mas\u001b[39;00m e:\n\u001b[0;32m     83\u001b[0m         \u001b[38;5;28;01mtry\u001b[39;00m:\n",
      "File \u001b[1;32m~\\anaconda3\\Lib\\site-packages\\nltk\\data.py:583\u001b[0m, in \u001b[0;36mfind\u001b[1;34m(resource_name, paths)\u001b[0m\n\u001b[0;32m    581\u001b[0m sep \u001b[38;5;241m=\u001b[39m \u001b[38;5;124m\"\u001b[39m\u001b[38;5;124m*\u001b[39m\u001b[38;5;124m\"\u001b[39m \u001b[38;5;241m*\u001b[39m \u001b[38;5;241m70\u001b[39m\n\u001b[0;32m    582\u001b[0m resource_not_found \u001b[38;5;241m=\u001b[39m \u001b[38;5;124mf\u001b[39m\u001b[38;5;124m\"\u001b[39m\u001b[38;5;130;01m\\n\u001b[39;00m\u001b[38;5;132;01m{\u001b[39;00msep\u001b[38;5;132;01m}\u001b[39;00m\u001b[38;5;130;01m\\n\u001b[39;00m\u001b[38;5;132;01m{\u001b[39;00mmsg\u001b[38;5;132;01m}\u001b[39;00m\u001b[38;5;130;01m\\n\u001b[39;00m\u001b[38;5;132;01m{\u001b[39;00msep\u001b[38;5;132;01m}\u001b[39;00m\u001b[38;5;130;01m\\n\u001b[39;00m\u001b[38;5;124m\"\u001b[39m\n\u001b[1;32m--> 583\u001b[0m \u001b[38;5;28;01mraise\u001b[39;00m \u001b[38;5;167;01mLookupError\u001b[39;00m(resource_not_found)\n",
      "\u001b[1;31mLookupError\u001b[0m: \n**********************************************************************\n  Resource \u001b[93mstopwords\u001b[0m not found.\n  Please use the NLTK Downloader to obtain the resource:\n\n  \u001b[31m>>> import nltk\n  >>> nltk.download('stopwords')\n  \u001b[0m\n  For more information see: https://www.nltk.org/data.html\n\n  Attempted to load \u001b[93mcorpora/stopwords\u001b[0m\n\n  Searched in:\n    - 'C:\\\\Users\\\\siddh/nltk_data'\n    - 'C:\\\\Users\\\\siddh\\\\anaconda3\\\\nltk_data'\n    - 'C:\\\\Users\\\\siddh\\\\anaconda3\\\\share\\\\nltk_data'\n    - 'C:\\\\Users\\\\siddh\\\\anaconda3\\\\lib\\\\nltk_data'\n    - 'C:\\\\Users\\\\siddh\\\\AppData\\\\Roaming\\\\nltk_data'\n    - 'C:\\\\nltk_data'\n    - 'D:\\\\nltk_data'\n    - 'E:\\\\nltk_data'\n**********************************************************************\n"
     ]
    }
   ],
   "source": [
    "stop_words = stopwords.words('english') \n",
    "\n",
    "def preprocess_string(text):\n",
    "    return [word for word in tokens if word not in stop_words]\n",
    "vectorizer = CountVectorizer()\n",
    "vectors = vectorizer.fit_transform([preprocess_string(text) for text in your_strings])\n",
    "similarities = cosine_similarity(vectors)"
   ]
  },
  {
   "cell_type": "code",
   "execution_count": null,
   "id": "ef548d01",
   "metadata": {},
   "outputs": [],
   "source": []
  }
 ],
 "metadata": {
  "kernelspec": {
   "display_name": "Python 3 (ipykernel)",
   "language": "python",
   "name": "python3"
  },
  "language_info": {
   "codemirror_mode": {
    "name": "ipython",
    "version": 3
   },
   "file_extension": ".py",
   "mimetype": "text/x-python",
   "name": "python",
   "nbconvert_exporter": "python",
   "pygments_lexer": "ipython3",
   "version": "3.11.5"
  }
 },
 "nbformat": 4,
 "nbformat_minor": 5
}
