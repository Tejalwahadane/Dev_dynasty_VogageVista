{
 "cells": [
  {
   "cell_type": "code",
   "execution_count": 650,
   "id": "2d33c51d",
   "metadata": {},
   "outputs": [
    {
     "name": "stdout",
     "output_type": "stream",
     "text": [
      "Requirement already satisfied: ipynb in c:\\users\\siddh\\anaconda3\\lib\\site-packages (0.5.1)\n"
     ]
    }
   ],
   "source": [
    "!pip install ipynb\n",
    "import numpy as np\n",
    "import pandas as pd\n",
    "\n",
    "from sklearn.feature_extraction.text import TfidfVectorizer\n",
    "from sklearn.metrics.pairwise import cosine_similarity\n",
    "from sklearn.metrics.pairwise import linear_kernel\n",
    "\n",
    "import re\n",
    "from sklearn.feature_extraction.text import TfidfVectorizer\n",
    "from nltk.corpus import stopwords\n",
    "from sklearn.feature_extraction.text import CountVectorizer\n",
    "from sklearn.metrics.pairwise import cosine_similarity\n",
    "\n",
    "\n",
    "import os\n",
    "import warnings\n",
    "warnings.filterwarnings('ignore')"
   ]
  },
  {
   "cell_type": "code",
   "execution_count": 689,
   "id": "f0cdd446",
   "metadata": {},
   "outputs": [],
   "source": [
    "i=0"
   ]
  },
  {
   "cell_type": "code",
   "execution_count": 690,
   "id": "ac9cbf4b",
   "metadata": {},
   "outputs": [],
   "source": [
    "def extract_info(data):\n",
    "    \n",
    "    state = data.get(\"state\").iloc[i]\n",
    "    state=state.lower()\n",
    "    state=state.replace(' ','')\n",
    "    path=f\"{state}.csv\"\n",
    "    location = data.get(\"location\").iloc[i] if \"location\" in data.columns else None\n",
    "    budget_min, budget_max = map(int, data.get(\"budget\").iloc[i].split(\"-\"))\n",
    "    budget = int(budget_max)\n",
    "    period = int(data.get(\"period\").iloc[i])\n",
    "    data=pd.read_csv(path)\n",
    "    return path, location, budget, period,data\n",
    "\n"
   ]
  },
  {
   "cell_type": "code",
   "execution_count": 691,
   "id": "f6e0e5dd",
   "metadata": {},
   "outputs": [
    {
     "name": "stdout",
     "output_type": "stream",
     "text": [
      "   id name             email  phone address country      state location  \\\n",
      "0   0  tej  hi@rWERgmail.com    123    jspm   India  rajasthan            \n",
      "1   0  tej  hi@rWERgmail.com    123    jspm   India     kerala            \n",
      "2   0  tej  hi@rWERgmail.com    123    jspm   India        goa            \n",
      "\n",
      "   guests  period   budget  \n",
      "0       3       9  0-75000  \n",
      "1       4       8  0-60000  \n",
      "2       5       4  0-55000  \n"
     ]
    }
   ],
   "source": [
    "df_info = pd.read_json('web_output.txt')\n",
    "print(df_info.head())\n",
    "state, loc, budget, dur,data = extract_info(df_info)"
   ]
  },
  {
   "cell_type": "code",
   "execution_count": 692,
   "id": "93c8d1b7",
   "metadata": {},
   "outputs": [
    {
     "name": "stdout",
     "output_type": "stream",
     "text": [
      "rajasthan.csv\n",
      "\n",
      "75000\n",
      "9\n"
     ]
    }
   ],
   "source": [
    "print(state)\n",
    "print(loc)\n",
    "print(budget)\n",
    "print(dur)"
   ]
  },
  {
   "cell_type": "code",
   "execution_count": 693,
   "id": "44326be9",
   "metadata": {},
   "outputs": [],
   "source": [
    "#state,dur,budget,persons,loc=input_state()"
   ]
  },
  {
   "cell_type": "code",
   "execution_count": 694,
   "id": "78ab5f23",
   "metadata": {},
   "outputs": [],
   "source": [
    "def get_cost(dur,per,sim):\n",
    "    itr=0\n",
    "    cost=0\n",
    "    rough=0\n",
    "    prices=data['Estimated Expenses per person (INR)']\n",
    "    min_prices, max_prices = [], []\n",
    "    for price_range in prices:\n",
    "        min_price, max_price = price_range.split(\" - \")\n",
    "        min_prices.append(int(min_price.replace(\",\", \"\")))\n",
    "        \n",
    "    for i in list(sim):\n",
    "        if(cost+min_prices[i]*per+2000<budget):\n",
    "            cost+=min_prices[i]*per+2000\n",
    "            itr+=1\n",
    "        else:\n",
    "            break\n",
    "        \n",
    "    return cost,itr\n",
    "    "
   ]
  },
  {
   "cell_type": "code",
   "execution_count": 695,
   "id": "5ed0b8bb",
   "metadata": {},
   "outputs": [],
   "source": [
    "def display(i):\n",
    "    print(\"Place to visit : \",data.Place.iloc[simi[i]])\n",
    "    print(\"Description : \",data.Description.iloc[simi[i]])\n",
    "    print(\"Activities : \",data.Activities.iloc[simi[i]])\n",
    "    print(\"\\nRating : \",data.Ratings.iloc[simi[i]],\"                                       Reviews : \",data.Reviews.iloc[simi[i]],\"\\n \\n\")"
   ]
  },
  {
   "cell_type": "code",
   "execution_count": 696,
   "id": "cf002b41",
   "metadata": {},
   "outputs": [],
   "source": [
    "def vect(data=data):\n",
    "    tfidf=TfidfVectorizer(stop_words='english')\n",
    "    tfidf_matrix=tfidf.fit_transform(data['Description'])\n",
    "    cosine_sim=cosine_similarity(tfidf_matrix,tfidf_matrix)\n",
    "    return cosine_sim"
   ]
  },
  {
   "cell_type": "code",
   "execution_count": 697,
   "id": "8cea3e60",
   "metadata": {
    "scrolled": false
   },
   "outputs": [
    {
     "name": "stdout",
     "output_type": "stream",
     "text": [
      "Places related to  Jaipur (The Pink City)\n",
      "-----------------------------------------------------------------------\n",
      "Days: 5\n",
      "Place to visit :  Udaipur (The City of Lakes)\n",
      "Description :  City of lakes and palaces, offering scenic beauty, historical sites, and romantic vibes.\n",
      "Activities :  Exploring City Palace, Lake Pichola boat ride, Jag Mandir, Monsoon Palace, Saheliyon Ki Bari, experiencing cultural performances.\n",
      "\n",
      "Rating :  4.5                                        Reviews :  11,237 \n",
      " \n",
      "\n",
      "------------------------------------------------------------------------\n",
      "Estimated Cost :  65000\n",
      "Trip_plan_output\\rajasthan.csv_trip.txt\n",
      "Place to visit :  Jaisalmer (The Golden City)\n",
      "Description :  Desert city known for its Jaisalmer Fort, sand dunes, and camel safaris.\n",
      "Activities :  Exploring Jaisalmer Fort, Salim Singh Haveli, Patwon Ki Haveli, Thar Desert camel safari, visiting Gadsisar Lake, witnessing sunset in the desert.\n",
      "\n",
      "Rating :  4.5                                        Reviews :  5,982 \n",
      " \n",
      "\n",
      "------------------------------------------------------------------------\n",
      "Estimated Cost :  65000\n",
      "Trip_plan_output\\rajasthan.csv_trip.txt\n",
      "Place to visit :  Pushkar\n",
      "Description :  Holy town known for its Brahma Temple, Pushkar Lake, and annual camel fair.\n",
      "Activities :  Visiting Brahma Temple, witnessing aarti ceremony at Pushkar Lake, exploring Ghats and temples, attending the Pushkar Camel Fair (November), experiencing desert safaris.\n",
      "\n",
      "Rating :  4.3                                        Reviews :  5,847 \n",
      " \n",
      "\n",
      "------------------------------------------------------------------------\n",
      "Estimated Cost :  65000\n",
      "Trip_plan_output\\rajasthan.csv_trip.txt\n",
      "Place to visit :  Chittorgarh\n",
      "Description :  Historic fort city known for its imposing Chittorgarh Fort and rich Rajput history.\n",
      "Activities :  Exploring Chittorgarh Fort, witnessing sound and light show at the fort, visiting Padmini Palace and Vijay Stambh, learning about Rajput history.\n",
      "\n",
      "Rating :  4.6                                        Reviews :  94,522 \n",
      " \n",
      "\n",
      "------------------------------------------------------------------------\n",
      "Estimated Cost :  65000\n",
      "Trip_plan_output\\rajasthan.csv_trip.txt\n",
      "Place to visit :  Kumbhalgarh Fort\n",
      "Description :  Second largest fort in Rajasthan, known for its massive walls and scenic location.\n",
      "Activities :  Exploring Kumbhalgarh Fort, visiting Jain temples within the fort, enjoying trekking trails, witnessing sunrise/sunset views.\n",
      "\n",
      "Rating :  4.4                                        Reviews :  2,317 \n",
      " \n",
      "\n",
      "------------------------------------------------------------------------\n",
      "Estimated Cost :  65000\n",
      "Trip_plan_output\\rajasthan.csv_trip.txt\n",
      "Place to visit :  Bundi\n",
      "Description :  Lesser-known gem known for its charming palaces, forts, and stepwells.\n",
      "Activities :  Exploring Taragarh Fort, Garh Palace, Bundi Palace, Sukh Mahal, exploring stepwells like Baori Raj ki Baori, experiencing local markets.\n",
      "\n",
      "Rating :  4.3                                        Reviews :  2,147 \n",
      " \n",
      "\n",
      "------------------------------------------------------------------------\n",
      "Estimated Cost :  65000\n",
      "Trip_plan_output\\rajasthan.csv_trip.txt\n"
     ]
    }
   ],
   "source": [
    "def get_package():\n",
    "    df_info = pd.read_json('web_output.txt')\n",
    "    #state, loc, budget, dur,data = extract_info(df_info)\n",
    "    simi=[]\n",
    "    places=list(data.Place)\n",
    "    if(loc==''):\n",
    "        sen1=0\n",
    "    else:\n",
    "        sen1=places.index(loc)\n",
    "    print(\"Places related to \",data.Place.iloc[sen1])\n",
    "    print(\"-----------------------------------------------------------------------\")\n",
    "    cosine_sim=vect()\n",
    "    for i in range((cosine_sim.shape)[1]):\n",
    "        simi.append(cosine_sim[sen1][i])\n",
    "    simi=pd.DataFrame(simi).sort_values(by=[0])\n",
    "    simi=simi.index\n",
    "    cost,itr=get_cost(dur,persons,simi)\n",
    "    days=min(dur,itr)\n",
    "    print(\"Days:\",days)\n",
    "    for i in range(0,days+1):\n",
    "        display(i)\n",
    "        print('------------------------------------------------------------------------')\n",
    "        print(\"Estimated Cost : \",cost)\n",
    "        path=os.path.join(f\"Trip_plan_output\\{state}_trip.txt\")\n",
    "        print(path)\n",
    "        with open(path, \"w\") as f:\n",
    "\n",
    "\n",
    "            f.write(\"HERE IS YOUR TRIP PLAN........  :)\\n\")\n",
    "            f.write(\"\\n-------------------------------------------------------------------------------------------\\n\")\n",
    "            f.write(\"Number of people in your trip : \" + str(persons) + \"\\n\")\n",
    "            f.write(\"Your budget : \" + str(budget) + \"\\n\")\n",
    "            f.write(\"Estimated Cost: \" + str(cost) + \"\\n\")\n",
    "            f.write(\"Total number of days for your trip : \"+str(days))\n",
    "            f.write(\"\\n-------------------------------------------------------------------------------------------\\n\")\n",
    "\n",
    "            for i in range(0, days - 1):\n",
    "                f.write(\"Day \" + str(i + 1) + \":\\n\")\n",
    "                f.write(\"Place to visit: \" + data.Place.iloc[simi[i]] + \"\\n\")\n",
    "                f.write(\"Description: \" + data.Description.iloc[simi[i]] + \"\\n\")\n",
    "                f.write(\"Activities: \" + data.Activities.iloc[simi[i]] + \"\\n\")\n",
    "                f.write(\"Rating: \" + str(data.Ratings.iloc[simi[i]]) + \"\\t Reviews: \" + str(data.Reviews.iloc[simi[i]]) + \"\\n\")\n",
    "                f.write(\"\\n---- ---------------------------------------------------------------------------------------\\n\")\n",
    "get_package()"
   ]
  },
  {
   "cell_type": "code",
   "execution_count": null,
   "id": "f54900f0",
   "metadata": {},
   "outputs": [],
   "source": []
  },
  {
   "cell_type": "code",
   "execution_count": null,
   "id": "d87e838c",
   "metadata": {},
   "outputs": [],
   "source": []
  },
  {
   "cell_type": "code",
   "execution_count": null,
   "id": "7f8ed122",
   "metadata": {},
   "outputs": [],
   "source": []
  },
  {
   "cell_type": "code",
   "execution_count": null,
   "id": "90372c83",
   "metadata": {},
   "outputs": [],
   "source": []
  },
  {
   "cell_type": "code",
   "execution_count": null,
   "id": "c8754528",
   "metadata": {},
   "outputs": [],
   "source": []
  },
  {
   "cell_type": "code",
   "execution_count": null,
   "id": "f8416a15",
   "metadata": {},
   "outputs": [],
   "source": []
  },
  {
   "cell_type": "code",
   "execution_count": 566,
   "id": "5e54f00f",
   "metadata": {},
   "outputs": [
    {
     "name": "stdout",
     "output_type": "stream",
     "text": [
      "   id name             email  phone address country      state location  \\\n",
      "0   0  tej  hi@rWERgmail.com    123    jspm   India  rajasthan            \n",
      "1   0  tej  hi@rWERgmail.com    123    jspm   India      kerla            \n",
      "\n",
      "   guests  period   budget  \n",
      "0       3       9  0-65000  \n",
      "1       4       8  0-40000  \n"
     ]
    }
   ],
   "source": [
    "def extract_info(data):\n",
    " \n",
    "    state = data.get(\"state\").iloc[i]  \n",
    "    location = data.get(\"location\").iloc[i] if \"location\" in data.columns else None\n",
    "    budget_min, budget_max = map(int, data.get(\"budget\").iloc[i].split(\"-\"))\n",
    "    budget = int(budget_max)\n",
    "    period = int(data.get(\"period\").iloc[i])\n",
    "    return state, location, budget, period\n",
    "\n",
    "df_info = pd.read_json('web_output.txt')\n",
    "print(df_info.head())\n",
    "state, loc, budget, dur = extract_info(df_info)"
   ]
  },
  {
   "cell_type": "code",
   "execution_count": 569,
   "id": "c2e726f3",
   "metadata": {},
   "outputs": [
    {
     "name": "stdout",
     "output_type": "stream",
     "text": [
      "Places related to  Agra\n",
      "-----------------------------------------------------------------------\n",
      "Days: 6\n",
      "Place to visit :  Mathura\n",
      "Description :  Birthplace of Lord Krishna, known for its numerous temples and historical sites.\n",
      "Activities :  Visiting Krishna Janmabhoomi Temple, Dwarkadheesh Temple, Gita Mandiram, attending cultural events, exploring museums.\n",
      "\n",
      "Rating :  4.6                                        Reviews :  142510 \n",
      " \n",
      "\n",
      "------------------------------------------------------------------------\n",
      "Place to visit :  Ayodhya\n",
      "Description :  Birthplace of Lord Rama and a key pilgrimage site for Hindus.\n",
      "Activities :  Visiting Ram Janmabhoomi Temple, Hanumangarhi Temple, Kanak Bhavan, witnessing aarti ceremony, exploring historical sites.\n",
      "\n",
      "Rating :  4.8                                        Reviews :  152347 \n",
      " \n",
      "\n",
      "------------------------------------------------------------------------\n",
      "Place to visit :  Kushinagar\n",
      "Description :  Site of Lord Buddha's Parinirvana (attainment of Nirvana).\n",
      "Activities :  Visiting Mahaparinirvana Stupa, Paranirvana Temple, Japanese Buddhist Temple, witnessing Buddhist rituals.\n",
      "\n",
      "Rating :  4.7                                        Reviews :  41289 \n",
      " \n",
      "\n",
      "------------------------------------------------------------------------\n",
      "Place to visit :  Kanpur\n",
      "Description :  Industrial and historical city known for its museums and colonial architecture.\n",
      "Activities :  Visiting Kanpur Memorial, Allen Forest Zoo, Kanpur Zoological Garden, exploring museums like the National Sangeet Natak Akademi Museum.\n",
      "\n",
      "Rating :  4.3                                        Reviews :  34872 \n",
      " \n",
      "\n",
      "------------------------------------------------------------------------\n",
      "Place to visit :  Hastinapur\n",
      "Description :  Ancient city mentioned in the Mahabharata, known for its historical significance.\n",
      "Activities :  Visiting Jain temples, archaeological sites, Hastinapur Wildlife Sanctuary, witnessing cultural performances.\n",
      "\n",
      "Rating :  4.1                                        Reviews :  113462 \n",
      " \n",
      "\n",
      "------------------------------------------------------------------------\n",
      "Place to visit :  Lucknow\n",
      "Description :  Capital city of Uttar Pradesh, known for its rich cultural heritage and architectural marvels.\n",
      "Activities :  Exploring Bara Imambara, Chota Imambara, Residency Complex, Lucknow Zoo, witnessing Chikan embroidery demonstrations.\n",
      "\n",
      "Rating :  4.5                                        Reviews :  112061 \n",
      " \n",
      "\n",
      "------------------------------------------------------------------------\n",
      "Estimated Cost :  59500\n"
     ]
    }
   ],
   "source": [
    "get_package()"
   ]
  },
  {
   "cell_type": "code",
   "execution_count": null,
   "id": "e7cc7e7e",
   "metadata": {},
   "outputs": [],
   "source": []
  },
  {
   "cell_type": "code",
   "execution_count": null,
   "id": "acf00fae",
   "metadata": {},
   "outputs": [],
   "source": []
  },
  {
   "cell_type": "code",
   "execution_count": null,
   "id": "35cf498f",
   "metadata": {},
   "outputs": [],
   "source": []
  },
  {
   "cell_type": "code",
   "execution_count": null,
   "id": "539fe68f",
   "metadata": {},
   "outputs": [],
   "source": [
    "def input_state():\n",
    "    state=input(\"Enter the state \")\n",
    "    dur=int(input(\"Enter no of days \"))\n",
    "    budget=int(input(\"Enter you Budget \"))\n",
    "    persons=int(input(\"Enter number of people \"))\n",
    "    loc=''\n",
    "    loc=input(\"Enter prefered location :\")\n",
    "    state=state.lower()\n",
    "    state=state.replace(' ','')\n",
    "    path=f\"{state}.csv\"\n",
    "    return path,dur,budget,persons,loc"
   ]
  },
  {
   "cell_type": "code",
   "execution_count": null,
   "id": "e9886d8b",
   "metadata": {},
   "outputs": [],
   "source": [
    "def get_package(data=data,state=state,loc=loc):\n",
    "    simi=[]\n",
    "    places=list(data.Place)\n",
    "    if(loc==''):\n",
    "        sen1=0\n",
    "    else:\n",
    "        sen1=places.index(loc)\n",
    "    print(\"Places related to \",data.Place.iloc[sen1])\n",
    "    print(\"-----------------------------------------------------------------------\")\n",
    "    cosine_sim=vect()\n",
    "    for i in range((cosine_sim.shape)[1]):\n",
    "        simi.append(cosine_sim[sen1][i])\n",
    "    simi=pd.DataFrame(simi).sort_values(by=[0])\n",
    "    simi=simi.index\n",
    "    cost,itr=get_cost(dur,persons,simi)\n",
    "    days=min(dur,itr)\n",
    "    print(\"Days:\",days)\n",
    "    for i in range(0,days):\n",
    "        display(i)\n",
    "        print('------------------------------------------------------------------------')\n",
    "    print(\"Estimated Cost : \",cost)\n",
    "    with open(\"package_output.txt\", \"w\") as f:\n",
    "\n",
    "        \n",
    "        f.write(\"HERE IS YOUR TRIP PLAN........  :)\\n\")\n",
    "        f.write(\"\\n-------------------------------------------------------------------------------------------\\n\")\n",
    "        f.write(\"Your budget : \" + str(budget) + \"\\n\")\n",
    "        f.write(\"Estimated Cost: \" + str(cost) + \"\\n\")\n",
    "        f.write(\"Total number of days for your trip : \"+str(days))\n",
    "        f.write(\"\\n-------------------------------------------------------------------------------------------\\n\")\n",
    "        \n",
    "        for i in range(0, days - 1):\n",
    "            f.write(\"\\nDay \" + str(i + 1) + \":\\n\")\n",
    "            f.write(\"Place to visit: \" + data.Place.iloc[simi[i]] + \"\\n\")\n",
    "            f.write(\"Description: \" + data.Description.iloc[simi[i]] + \"\\n\")\n",
    "            f.write(\"Activities: \" + data.Activities.iloc[simi[i]] + \"\\n\")\n",
    "            f.write(\"\\nRating: \" + str(data.Ratings.iloc[simi[i]]) + \"                                                                   \\t Reviews: \" + str(data.Reviews.iloc[simi[i]]) + \"\\n\")\n",
    "            f.write(\"\\n-------------------------------------------------------------------------------------------\\n\")\n"
   ]
  }
 ],
 "metadata": {
  "kernelspec": {
   "display_name": "Python 3 (ipykernel)",
   "language": "python",
   "name": "python3"
  },
  "language_info": {
   "codemirror_mode": {
    "name": "ipython",
    "version": 3
   },
   "file_extension": ".py",
   "mimetype": "text/x-python",
   "name": "python",
   "nbconvert_exporter": "python",
   "pygments_lexer": "ipython3",
   "version": "3.11.5"
  }
 },
 "nbformat": 4,
 "nbformat_minor": 5
}
